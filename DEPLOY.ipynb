{
 "cells": [
  {
   "cell_type": "markdown",
   "metadata": {},
   "source": [
    "# Quickstart: Create and deploy a Python web app to Azure using an azd template\n",
    "Article - 09/27/2023 - [1 contributor](https://github.com/bobtabor-msft)\n",
    "\n",
    "**In this article**\n",
    "\n",
    "[Prerquisites]()\n",
    "\n",
    "[Choose a template]()\n",
    "\n",
    "[Run the template]()\n",
    "\n",
    "[Edit and redeploy]()\n",
    "\n",
    "[Clean up resources]()\n",
    "\n",
    "[Troubleshooting]()\n",
    "\n",
    "[Related content]()\n",
    "\n",
    "This quickstart guides you through the easiest and fastest way to create and deploy a Python web and database solution to Azure. By following the instructions in this quickstart, you will:\n",
    "\n",
    "- Choose an azd template based on the Python web framework, Azure database platform, and Azure web hosting platform you want to build on.\n",
    "- Use CLI commands to run an azd template to create a sample web app and database, and create and configure the necessary Azure resources, then deploy the sample web app to Azure.\n",
    "- Edit the web app on your local computer and use an azd command to redeploy.\n",
    "- Use an azd command to clean up Azure resources.\n",
    "\n",
    "It should take less than 15 minutes to complete this tutorial. Upon completion, you can start modifying the new project with your custom code.\n",
    "\n",
    "To learn more about these azd templates for Python web app development:\n",
    "\n",
    "- [What are these templates?](https://learn.microsoft.com/en-us/azure/developer/python/overview-azd-templates#what-are-the-python-web-azd-templates)\n",
    "- [How do the templates work?](https://learn.microsoft.com/en-us/azure/developer/python/overview-azd-templates#how-do-the-templates-work)\n",
    "- [Why would I want to do this?](https://learn.microsoft.com/en-us/azure/developer/python/overview-azd-templates#why-would-i-want-to-use-this)\n",
    "- [What are my other options?](https://learn.microsoft.com/en-us/azure/developer/python/overview-azd-templates#what-are-my-other-options)\n",
    "\n",
    "[Original Document](https://learn.microsoft.com/en-us/azure/developer/python/quickstart-python-web-azd-templates)"
   ]
  },
  {
   "cell_type": "markdown",
   "metadata": {},
   "source": [
    "## Prerequisites\n",
    "An Azure subscription - [Create one for free](https://azure.microsoft.com/free/cognitive-services?azure-portal=true)\n",
    "\n",
    "If you are deploying via notebook there are no other prerequisites.\n",
    "\n",
    "If you are deploying via your local computer you must have the following installed:\n",
    "\n",
    "- [Azure Developer CLI]()\n",
    "- [Docker Desktop]()\n",
    "- [Visual Studio Code]()\n",
    "- [Dev Container Extension]()"
   ]
  },
  {
   "cell_type": "markdown",
   "metadata": {},
   "source": [
    "## Authenticate azd to Azure\n",
    "\n",
    "To create resources and deploy to Azure, you need to be authenticated.\n",
    "\n",
    "1. To authenticate `azd` to your Azure account, enter the following command in the terminal window below this and follow the prompt."
   ]
  },
  {
   "cell_type": "code",
   "execution_count": null,
   "metadata": {
    "vscode": {
     "languageId": "shellscript"
    }
   },
   "outputs": [],
   "source": [
    "!azd auth login --use-device-code"
   ]
  },
  {
   "cell_type": "markdown",
   "metadata": {},
   "source": [
    "Follow the instructions when prompted to \"Pick an account\" or log into your Azure account. Once you have successfully authenticated, the following message is displayed in a web page: \"Authentication complete. You can return to the application. Feel free to close this browser tab.\"\n",
    "\n",
    "When you close the tab, the shell displays the message:\n",
    "\n",
    "```\n",
    "Logged in to Azure.\n",
    "```"
   ]
  },
  {
   "cell_type": "markdown",
   "metadata": {},
   "source": [
    "2. Authenticate the `az` cli by entering the following command in the terminal window below this notebook and following the prompt."
   ]
  },
  {
   "cell_type": "code",
   "execution_count": null,
   "metadata": {
    "vscode": {
     "languageId": "shellscript"
    }
   },
   "outputs": [],
   "source": [
    "!az login --use-device-code"
   ]
  },
  {
   "cell_type": "markdown",
   "metadata": {},
   "source": [
    "## Choose a template\n",
    "Choose an azd template based on the Python web framework, Azure web hosting platform, and Azure database platform you want to build on.\n",
    "\n",
    "1. Select a template name (first column) from the following list of templates in the following tables. You'll use the template name during the `azd init` step in the next section."
   ]
  },
  {
   "cell_type": "markdown",
   "metadata": {},
   "source": [
    "**Django**\n",
    "\n",
    "|Template|Web Framework|Database|Hosting Platform|GitHub Repo|\n",
    "|--------|-------------|--------|----------------|-----------|\n",
    "|**azure-django-postgres-flexible-aca**|Django|PostgreSQL Flexible Server|Azure Container Apps|[repo]()|\n",
    "|**azure-django-postgres-flexible-appservice**|Django|PostgreSQL Flexible Server|Azure App Service|[repo]()|\n",
    "|**azure-django-cosmos-postgres-aca**|Django|Cosmos DB (PostgreSQL Adapter)|Azure Container Apps|[repo]()|\n",
    "|**azure-django-cosmos-postgres-appservice**|Django|Cosmos DB (PostgreSQL Adapter)|Azure App Service|[repo]()|\n",
    "|**azure-django-postgres-addon-aca**|Django|Azure Container Apps PostgreSQL Add-on|Azure Container Apps|[repo]()|\n",
    "\n",
    "**FastAPI**\n",
    "\n",
    "|Template|Web Framework|Database|Hosting Platform|GitHub Repo|\n",
    "|--------|-------------|--------|----------------|-----------|\n",
    "|**azure-fastapi-postgres-flexible-aca**|FastAPI|PostgreSQL Flexible Server|Azure Container Apps|[repo]()|\n",
    "|**azure-fastapi-postgres-flexible-appservice**|FastAPI|PostgreSQL Flexible Server|Azure App Service|[repo]()|\n",
    "|**azure-fastapi-cosmos-postgres-aca**|FastAPI|Cosmos DB (PostgreSQL Adapter)|Azure Container Apps|[repo]()|\n",
    "|**azure-fastapi-cosmos-postgres-appservice**|FastAPI|Cosmos DB (PostgreSQL Adapter)|Azure App Service|[repo]()|\n",
    "|**azure-fastapi-postgres-addon-aca**|FastAPI|Azure Container Apps PostgreSQL Add-on|Azure Container Apps|[repo]()|\n",
    "\n",
    "**Flask**\n",
    "\n",
    "|Template|Web Framework|Database|Hosting Platform|GitHub Repo|\n",
    "|--------|-------------|--------|----------------|-----------|\n",
    "|**azure-flask-postgres-flexible-aca**|Flask|PostgreSQL Flexible Server|Azure Container Apps|[repo]()|\n",
    "|**azure-flask-postgres-flexible-appservice**|Flask|PostgreSQL Flexible Server|Azure App Service|[repo]()|\n",
    "|**azure-flask-cosmos-postgres-aca**|Flask|Cosmos DB (PostgreSQL Adapter)|Azure Container Apps|[repo]()|\n",
    "|**azure-flask-cosmos-postgres-appservice**|Flask|Cosmos DB (PostgreSQL Adapter)|Azure App Service|[repo]()|\n",
    "|**azure-flask-postgres-addon-aca**|Flask|Azure Container Apps PostgreSQL Add-on|Azure Container Apps|[repo]()|\n",
    "|**azure-flask-cosmos-mongodb-aca**|Flask|Cosmos DB (MongoDB)|Azure Container Apps|[repo]()|\n",
    "|**azure-flask-cosmos-mongodb-appservice**|Flask|Cosmos DB (MongoDB)|Azure App Service|[repo]()|"
   ]
  },
  {
   "cell_type": "markdown",
   "metadata": {},
   "source": [
    "The GitHub repository (last column) is only provided for reference purposes. You should only clone the repository directly if you want to contribute changes to the template. Otherwise, follow the instructions in this quickstart to use the azd CLI to interact with the template in a normal workflow."
   ]
  },
  {
   "cell_type": "markdown",
   "metadata": {},
   "source": [
    "Execute the `ENVIRONMENT CONFIG FORM` cell below to configure the deployment settings."
   ]
  },
  {
   "cell_type": "code",
   "execution_count": null,
   "metadata": {},
   "outputs": [],
   "source": [
    "# ENVIRONMENT CONFIG FORM\n",
    "\n",
    "#region env notes\n",
    "# The following env set up is needed to allow azd commands to run without requiring \n",
    "# a response, and to move to a clean folder due to azd bug.\n",
    "#endregion\n",
    "#region code\n",
    "#region installs\n",
    "# !pip install ipywidgets\n",
    "# !pip install --upgrade notebook==6.4.12\n",
    "# !pip install jupyter_contrib_nbextensions\n",
    "# !pip install widgetsnbextension --upgrade\n",
    "# !sudo jupyter nbextension enable --py widgetsnbextension --user\n",
    "#endregion\n",
    "#region imports\n",
    "import json\n",
    "import os\n",
    "import ipywidgets as widgets\n",
    "from IPython.display import display\n",
    "#endregion\n",
    "#region Azure values\n",
    "# Assuming subs_list is obtained from a command\n",
    "subs_list = !az account list -o json\n",
    "subs = json.loads(\"\".join(subs_list))\n",
    "sorted_subs = sorted(subs, key=lambda x: x['name'])  # Sort the subscriptions by name\n",
    "\n",
    "# Assuming locs_list is obtained from a command\n",
    "locs_list = !az account list-locations -o json\n",
    "locs = json.loads(\"\".join(locs_list))\n",
    "sorted_locs = sorted(locs, key=lambda x: x['displayName'])  # Sort the locations by displayName\n",
    "#endregion\n",
    "#region Menus\n",
    "# Define a layout that provides more horizontal space for the widget labels\n",
    "wide_layout = widgets.Layout(width='80%')  # Adjust the width as needed\n",
    "wide_style = {'description_width': '50%'}\n",
    "\n",
    "subscription_dropdown = widgets.Dropdown(\n",
    "    options=[(sub['name'], sub['id']) for sub in sorted_subs],\n",
    "    description='Subscription:',\n",
    "    disabled=False,\n",
    "    layout = wide_layout,\n",
    "    style = wide_style,\n",
    ")\n",
    "\n",
    "location_dropdown = widgets.Dropdown(\n",
    "    options=[(loc['displayName'], loc['name']) for loc in sorted_locs],\n",
    "    description='Location:',\n",
    "    disabled=False,\n",
    "    layout = wide_layout,\n",
    "    style = wide_style,\n",
    ")\n",
    "\n",
    "environment_textbox = widgets.Text(\n",
    "    value='azdtest',\n",
    "    description='AZD Environment:',\n",
    "    disabled=False,\n",
    "    layout = wide_layout,\n",
    "    style = wide_style,\n",
    ")\n",
    "\n",
    "template_textbox = widgets.Dropdown(\n",
    "    options=[\n",
    "        'azure-django-postgres-flexible-aca',\n",
    "        'azure-django-postgres-flexible-appservice',\n",
    "        'azure-django-cosmos-postgres-aca',\n",
    "        'azure-django-cosmos-postgres-appservice',\n",
    "        'azure-django-postgres-addon-aca',\n",
    "        'azure-fastapi-postgres-flexible-aca',\n",
    "        'azure-fastapi-postgres-flexible-appservice',\n",
    "        'azure-fastapi-cosmos-postgres-aca',\n",
    "        'azure-fastapi-cosmos-postgres-appservice',\n",
    "        'azure-fastapi-postgres-addon-aca',\n",
    "        'azure-flask-postgres-flexible-aca',\n",
    "        'azure-flask-postgres-flexible-appservice',\n",
    "        'azure-flask-cosmos-postgres-aca',\n",
    "        'azure-flask-cosmos-postgres-appservice',\n",
    "        'azure-flask-postgres-addon-aca',\n",
    "        'azure-flask-cosmos-mongodb-aca',\n",
    "        'azure-flask-cosmos-mongodb-appservice',\n",
    "    ],\n",
    "    value='azure-django-postgres-flexible-appservice',\n",
    "    description='AZD Template:',\n",
    "    disabled=False,\n",
    "    layout = wide_layout,\n",
    "    style = wide_style,\n",
    ")\n",
    "#endregion\n",
    "#region Handlers\n",
    "# Handlers for updating global variable on change\n",
    "subscription_id = sorted_subs[0]['id']\n",
    "os.environ['AZURE_SUBSCRIPTION_ID'] = subscription_id\n",
    "\n",
    "location        = sorted_locs[0]['name']\n",
    "os.environ['AZURE_LOCATION'] = location\n",
    "\n",
    "env_name        = environment_textbox.value\n",
    "os.environ['AZURE_ENV_NAME'] = env_name\n",
    "\n",
    "template_name   = template_textbox.value\n",
    "os.environ['AZD_TEMPLATE_NAME'] = template_name\n",
    "\n",
    "def on_subscription_change(change):\n",
    "    global subscription_id\n",
    "    if change['type'] == 'change' and change['name'] == 'value':\n",
    "        subscription_id = change['new']\n",
    "        os.environ['AZURE_SUBSCRIPTION_ID'] = change['new']\n",
    "        print(f\"Subscription ID set to: {subscription_id}\")  # Optional: for confirmation\n",
    "\n",
    "def on_location_change(change):\n",
    "    global location\n",
    "    if change['type'] == 'change' and change['name'] == 'value':\n",
    "        location = change['new']\n",
    "        os.environ['AZURE_LOCATION'] = change['new']\n",
    "        print(f\"Location set to: {location}\")  # Optional: for confirmation\n",
    "\n",
    "def on_environment_change(change):\n",
    "    global env_name\n",
    "    if change['type'] == 'change' and change['name'] == 'value':\n",
    "        env_name = change['new']\n",
    "        os.environ['AZURE_ENV_NAME'] = change['new']\n",
    "        # print(f\"Environment Name set to: {env_name}\")\n",
    "\n",
    "def on_template_change(change):\n",
    "    global template_name\n",
    "    if change['type'] == 'change' and change['name'] == 'value':\n",
    "        template_name = change['new']\n",
    "        os.environ['AZD_TEMPLATE_NAME'] = change['new']\n",
    "        # print(f\"Environment Name set to: {env_name}\")\n",
    "\n",
    "# Assign the event handler to the dropdown changes\n",
    "subscription_dropdown.observe(on_subscription_change, names='value')\n",
    "location_dropdown.observe(on_location_change, names='value')\n",
    "environment_textbox.observe(on_environment_change, names='value')\n",
    "template_textbox.observe(on_template_change, names='value')\n",
    "\n",
    "#endregion\n",
    "#region Form\n",
    "form = widgets.VBox([\n",
    "    widgets.HTML(value=\"Select the <b>azd template name</b> or accept the default:\"),\n",
    "    template_textbox, \n",
    "    widgets.HTML(value=\"Specify the <b>azd environment name</b> or accept the default:\"),\n",
    "    environment_textbox, \n",
    "    widgets.HTML(value=\"Select the <b>Azure Subscription</b> you want to use:\"),\n",
    "    subscription_dropdown, \n",
    "    widgets.HTML(value=\"Select the <b>Azure Location</b> where you would like to deploy:\"),\n",
    "    location_dropdown])\n",
    "display(form)\n",
    "#endregion\n",
    "#endregion"
   ]
  },
  {
   "cell_type": "code",
   "execution_count": null,
   "metadata": {
    "notebookRunGroups": {
     "groupValue": "1"
    },
    "vscode": {
     "languageId": "shellscript"
    }
   },
   "outputs": [],
   "source": [
    "# CONFIRMATION: envionment set up\n",
    "!env | sort | grep -E \"AZURE|AZD\""
   ]
  },
  {
   "cell_type": "markdown",
   "metadata": {},
   "source": [
    "## Run the template\n",
    "Running an azd template is the same across languages and frameworks. And, the same basic steps apply to all templates. The steps are:\n",
    "\n",
    "1. Click the `Execute cell` button for the following cell to create a new folder for the environment and then change into that directory."
   ]
  },
  {
   "cell_type": "code",
   "execution_count": null,
   "metadata": {
    "vscode": {
     "languageId": "shellscript"
    }
   },
   "outputs": [],
   "source": [
    "!mkdir $AZURE_ENV_NAME\n",
    "!cd $AZURE_ENV_NAME\n",
    "\n",
    "# region WORKAROUND\n",
    "# Issue: `!cd` doesn't do anything in Notebook\n",
    "import os\n",
    "os.chdir(env_name)\n",
    "print(f\"Current directory is: {os.getcwd()}\")\n",
    "# endregion"
   ]
  },
  {
   "cell_type": "markdown",
   "metadata": {},
   "source": [
    "2. To set up the local development environment click the `Execute cell` button and azd will initialize the environment using the azd template you specified above.\n",
    "\n",
    "(On your local computer, enter the following commands in your terminal, replace $AZD_TEMPLATE_NAME with the template you would like to deploy, and answer any prompts.)"
   ]
  },
  {
   "cell_type": "code",
   "execution_count": null,
   "metadata": {
    "vscode": {
     "languageId": "shellscript"
    }
   },
   "outputs": [],
   "source": [
    "!azd init --template $AZD_TEMPLATE_NAME"
   ]
  },
  {
   "cell_type": "markdown",
   "metadata": {},
   "source": [
    "(On your local computer, when prompted for an environment name, use _azdtest_ or any other name. The environment name is used when naming Azure resource groups and resources. For best results, use a short name, lower case latters, no special characters.)"
   ]
  },
  {
   "cell_type": "markdown",
   "metadata": {},
   "source": [
    "3. To create the necessary Azure resources and deploy the application, click the `Execute cell` button.\n",
    "\n",
    "(On your local computer enter the following commands in your terminal and follow the instructions when prompted to choose Azure Subscription to use for payment, then select an Azure location to use. Choose a region that is close to you geographically.)"
   ]
  },
  {
   "cell_type": "code",
   "execution_count": null,
   "metadata": {
    "vscode": {
     "languageId": "shellscript"
    }
   },
   "outputs": [],
   "source": [
    "!azd up"
   ]
  },
  {
   "cell_type": "markdown",
   "metadata": {},
   "source": [
    "<div class=\"alert alert-block alert-info\">\n",
    "<b>IMPORTANT</b></br> \n",
    "Once <code>azd up</code> completes successfully, the sample web app will be available on the public internet and your Azure Subscription will begin accruing charges for all resources that are created. The creators of the azd templates intentionally chose inexpensive tiers but not necessarily <i>free</i> tiers since free tiers often have restricted availability.\n",
    "</div>"
   ]
  },
  {
   "cell_type": "markdown",
   "metadata": {},
   "source": [
    "Executing azd up could take several minutes since it's provisioning and deploying multiple Azure services. As progress is displayed, watch for errors. If you see errors, try the following to fix the problem:\n",
    "\n",
    "- Delete the _azd-quickstart_ folder and the quickstart instructions from the beginning.\n",
    "- When prompted, choose a simpler name for your environment. Only use lower-case letters and dashes. No numbers, upper-case letters, or special characters.\n",
    "- Choose a different location.\n",
    "\n",
    "If you still have problems, see the [Troubleshooting]() section at the bottom of this document."
   ]
  },
  {
   "cell_type": "markdown",
   "metadata": {},
   "source": [
    "<div class=\"alert alert-block alert-info\">\n",
    "<b>IMPORTANT</b></br> \n",
    "Once you have finished working with the sample web app, use <code>azd down</code> to remove all of the services that were created by <code>azd up</code>.\n",
    "</div>"
   ]
  },
  {
   "cell_type": "markdown",
   "metadata": {},
   "source": [
    "4. When `azd up` completes successfully, the following output is displayed:"
   ]
  },
  {
   "attachments": {
    "image.png": {
     "image/png": "[encoded data removed]"
    }
   },
   "cell_type": "markdown",
   "metadata": {},
   "source": [
    "![image.png](attachment:image.png)"
   ]
  },
  {
   "cell_type": "markdown",
   "metadata": {},
   "source": [
    "Copy the first URL after the word `- Endpoint:` and paste it into the location bar of a web browser to see the sample web app project running live in Azure."
   ]
  },
  {
   "cell_type": "code",
   "execution_count": null,
   "metadata": {
    "vscode": {
     "languageId": "shellscript"
    }
   },
   "outputs": [],
   "source": [
    "wget https://www.example.com\n"
   ]
  },
  {
   "cell_type": "markdown",
   "metadata": {},
   "source": [
    "5. Open a new tab in your web browser, copy the second URL from the previous step and paste it into the location bar. The Azure Portal displays all of the services in your new resource group that have been deployed to host the sample web app project."
   ]
  },
  {
   "cell_type": "markdown",
   "metadata": {},
   "source": [
    "## Edit and redeploy\n",
    "\n",
    "All subsequent instructions are the same as the Learn Doc, so not including them here at this time."
   ]
  },
  {
   "cell_type": "markdown",
   "metadata": {},
   "source": [
    "\n",
    "\n",
    "# Done!"
   ]
  },
  {
   "cell_type": "markdown",
   "metadata": {},
   "source": [
    "## Helper Code"
   ]
  },
  {
   "cell_type": "code",
   "execution_count": null,
   "metadata": {
    "vscode": {
     "languageId": "shellscript"
    }
   },
   "outputs": [],
   "source": [
    "# region RESET\n",
    "\n",
    "import os\n",
    "os.chdir(\"/workspaces\")\n",
    "!rm -rf azdtest\n",
    "!rm -rf $env_name\n",
    "#endregion"
   ]
  },
  {
   "cell_type": "code",
   "execution_count": null,
   "metadata": {
    "vscode": {
     "languageId": "shellscript"
    }
   },
   "outputs": [],
   "source": [
    "#region auth notes\n",
    "#\n",
    "# This cell can't be executed because the URL is not displayed until the user presses \"Enter\", \n",
    "# and I haven't found a way to do that yet. Other keys can be \"sent\" in, but not \"/r\".\n",
    "# \n",
    "# --no-prompt also doesn't work well because it automatically opens the new browser window\n",
    "# which hides the code.\n",
    "# \n",
    "# WORKAROUND: paste the command above into the terminal below and follow the instructions.\n",
    "#             some times you have to run the command twice.\n",
    "\n",
    "# TODO - azd to add param/envvar that shows the code and URL at the same time to make this work, \n",
    "# perhaps --no-auto-browser?\n",
    "# or perhaps there is a way to make the callback(?) work in Codespaces?\n",
    "\n",
    "# Authenticating the az cli is required so we can get the list of subscriptions and locations.\n",
    "# It works better than azd because it shows the URL when it shows the code, but I'm using\n",
    "# the same steps for both to avoid confusion.\n",
    "#\n",
    "#endregion"
   ]
  }
 ],
 "metadata": {
  "kernelspec": {
   "display_name": "Python 3",
   "language": "python",
   "name": "python3"
  },
  "language_info": {
   "codemirror_mode": {
    "name": "ipython",
    "version": 3
   },
   "file_extension": ".py",
   "mimetype": "text/x-python",
   "name": "python",
   "nbconvert_exporter": "python",
   "pygments_lexer": "ipython3",
   "version": "3.11.6"
  }
 },
 "nbformat": 4,
 "nbformat_minor": 2
}
